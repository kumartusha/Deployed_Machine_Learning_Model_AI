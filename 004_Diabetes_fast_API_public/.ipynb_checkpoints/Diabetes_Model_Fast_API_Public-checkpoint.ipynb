{
 "cells": [
  {
   "cell_type": "code",
   "execution_count": null,
   "id": "9ba34caf-e7b3-46e1-a46f-4afc2dde7501",
   "metadata": {},
   "outputs": [],
   "source": [
    "# !pip install fastapi\n",
    "# !pip install uvicorn\n",
    "# !pip install pickle\n",
    "# !pip install pydantic\n",
    "# !pip install scikit-learn\n",
    "# !pip install requests\n",
    "# !pip install pypi.json\n",
    "# !pip install pyngrok\n",
    "# !pip install nest-asyncio"
   ]
  },
  {
   "cell_type": "code",
   "execution_count": 11,
   "id": "f864d8b3-7cc1-4689-a63a-1d40fa94f0ee",
   "metadata": {},
   "outputs": [],
   "source": [
    "from fastapi import FastAPI\n",
    "from pydantic import BaseModel\n",
    "import pickle\n",
    "import json\n",
    "import uvicorn\n",
    "from pyngrok import ngrok\n",
    "from fastapi.middleware.cors import CORSMiddleware\n",
    "import nest_asyncio\n",
    "import warnings\n",
    "\n",
    "warnings.filterwarnings(\"ignore\")"
   ]
  },
  {
   "cell_type": "code",
   "execution_count": null,
   "id": "833487f6-2380-4657-8df9-9a78c0728a8f",
   "metadata": {},
   "outputs": [],
   "source": []
  },
  {
   "cell_type": "code",
   "execution_count": 12,
   "id": "3d957efd-70fc-4194-a36c-a0b5f74cafda",
   "metadata": {},
   "outputs": [],
   "source": [
    "app = FastAPI()"
   ]
  },
  {
   "cell_type": "code",
   "execution_count": 13,
   "id": "3488da33-527d-40fe-b199-44a5105bee78",
   "metadata": {},
   "outputs": [],
   "source": [
    "# The purpose of this code is to allow the FastAPI app to accept requests from any origin, \n",
    "# supporting all HTTP methods, headers, and credentials for cross-origin requests.\n",
    "\n",
    "origins = [\"*\"]\n",
    "\n",
    "app.add_middleware(\n",
    "    CORSMiddleware,\n",
    "    allow_origins = origins,\n",
    "    allow_credentials = True,\n",
    "    allow_methods = [\"*\"],\n",
    "    allow_headers = [\"*\"],\n",
    ")"
   ]
  },
  {
   "cell_type": "code",
   "execution_count": null,
   "id": "12edc106-a699-40a5-8db7-75d77bc146a5",
   "metadata": {},
   "outputs": [],
   "source": []
  },
  {
   "cell_type": "code",
   "execution_count": 14,
   "id": "168207b7-1078-4e2f-8672-0b8e842fb154",
   "metadata": {},
   "outputs": [],
   "source": [
    "class model_input(BaseModel):\n",
    "    pregnancies: int\n",
    "    Glucose: int\n",
    "    BloodPressure: int\n",
    "    SkinThickness: int\n",
    "    Insulin: int\n",
    "    BMI: float\n",
    "    DiabetesPedigreeFunction: float\n",
    "    Age: int"
   ]
  },
  {
   "cell_type": "code",
   "execution_count": null,
   "id": "c1aef7a5-8ad8-4b65-9fca-3eec00f0194e",
   "metadata": {},
   "outputs": [],
   "source": []
  },
  {
   "cell_type": "code",
   "execution_count": 15,
   "id": "314a316d-1abb-458c-ab71-dbe32a80b6c4",
   "metadata": {},
   "outputs": [],
   "source": [
    "#  Loading the model which is saved in the pickle format.\n",
    "diabetes_model = pickle.load(open(\"diabetes_model.sav\", \"rb\"))"
   ]
  },
  {
   "cell_type": "code",
   "execution_count": null,
   "id": "ff40e093-142f-45c9-b157-fe47d8344379",
   "metadata": {},
   "outputs": [],
   "source": []
  },
  {
   "cell_type": "code",
   "execution_count": 16,
   "id": "36184ffb-fc74-4698-80b2-7da25de9f12b",
   "metadata": {},
   "outputs": [],
   "source": [
    "#  Create the Post method for our project.\n",
    "@app.post(\"/diabetes_prediction\")\n",
    "def diabetes_predd(input_parameters: model_input):\n",
    "    #  Directly Access the Variable from the class.\n",
    "    input_list = [\n",
    "        input_parameters.pregnancies,\n",
    "        input_parameters.Glucose,\n",
    "        input_parameters.BloodPressure,\n",
    "        input_parameters.SkinThickness,\n",
    "        input_parameters.Insulin,\n",
    "        input_parameters.BMI,\n",
    "        input_parameters.DiabetesPedigreeFunction,\n",
    "        input_parameters.Age,\n",
    "    ]\n",
    "    prediction = diabetes_model.predict([input_list])\n",
    "\n",
    "    if prediction[0] == 0:\n",
    "        return \"The person is not diabetic\"\n",
    "    else:\n",
    "        return \"The person is diabetic\""
   ]
  },
  {
   "cell_type": "code",
   "execution_count": null,
   "id": "ab003f3e-1d42-4662-b16e-0d99f9ad0641",
   "metadata": {},
   "outputs": [],
   "source": []
  },
  {
   "cell_type": "code",
   "execution_count": null,
   "id": "1cb55f5d-8fea-4a7e-80bd-5f71c2331e2e",
   "metadata": {},
   "outputs": [
    {
     "name": "stdout",
     "output_type": "stream",
     "text": [
      "Public URL: https://b04d-2402-8100-2051-ce91-b1bb-8f39-e28d-af79.ngrok-free.app\n"
     ]
    },
    {
     "name": "stderr",
     "output_type": "stream",
     "text": [
      "INFO:     Started server process [6344]\n",
      "INFO:     Waiting for application startup.\n",
      "INFO:     Application startup complete.\n",
      "INFO:     Uvicorn running on http://127.0.0.1:8001 (Press CTRL+C to quit)\n"
     ]
    },
    {
     "name": "stdout",
     "output_type": "stream",
     "text": [
      "INFO:     2402:8100:2051:ce91:b1bb:8f39:e28d:af79:0 - \"POST /diabetes_prediction HTTP/1.1\" 200 OK\n",
      "INFO:     2402:8100:2051:ce91:b1bb:8f39:e28d:af79:0 - \"GET /diabetes_prediction HTTP/1.1\" 405 Method Not Allowed\n",
      "INFO:     2402:8100:2051:ce91:b1bb:8f39:e28d:af79:0 - \"GET /favicon.ico HTTP/1.1\" 404 Not Found\n",
      "INFO:     49.14.128.38:0 - \"POST /diabetes_prediction HTTP/1.1\" 200 OK\n",
      "INFO:     2402:8100:2051:ce91:b1bb:8f39:e28d:af79:0 - \"GET /diabetes_prediction HTTP/1.1\" 405 Method Not Allowed\n",
      "INFO:     2402:8100:2051:ce91:b1bb:8f39:e28d:af79:0 - \"POST /diabetes_prediction HTTP/1.1\" 200 OK\n",
      "INFO:     2402:8100:2051:ce91:b1bb:8f39:e28d:af79:0 - \"POST /diabetes_prediction HTTP/1.1\" 422 Unprocessable Entity\n",
      "INFO:     2402:8100:2051:ce91:b1bb:8f39:e28d:af79:0 - \"POST /diabetes_prediction HTTP/1.1\" 422 Unprocessable Entity\n",
      "INFO:     49.14.128.38:0 - \"POST /diabetes_prediction HTTP/1.1\" 422 Unprocessable Entity\n",
      "INFO:     49.14.128.38:0 - \"POST /diabetes_prediction HTTP/1.1\" 422 Unprocessable Entity\n"
     ]
    }
   ],
   "source": [
    "ngrok_tunnel = ngrok.connect(8001)\n",
    "print(\"Public URL:\", ngrok_tunnel.public_url)\n",
    "nest_asyncio.apply()\n",
    "uvicorn.run(app, port=8001)"
   ]
  },
  {
   "cell_type": "code",
   "execution_count": null,
   "id": "16cd2ec3-2bce-481a-8b22-0e083b51c28c",
   "metadata": {},
   "outputs": [],
   "source": []
  },
  {
   "cell_type": "code",
   "execution_count": null,
   "id": "a7f5e11d-184b-4881-b11f-52dfda0d187d",
   "metadata": {},
   "outputs": [],
   "source": []
  },
  {
   "cell_type": "code",
   "execution_count": null,
   "id": "b5ec4652-06b3-4abe-ad91-5650b835437a",
   "metadata": {},
   "outputs": [],
   "source": []
  },
  {
   "cell_type": "code",
   "execution_count": null,
   "id": "b146b01c-db3c-42af-a33b-4ae8064d54b2",
   "metadata": {},
   "outputs": [],
   "source": []
  },
  {
   "cell_type": "code",
   "execution_count": null,
   "id": "474bc3fa-9e39-4cbe-9b69-cc4fbd69dc77",
   "metadata": {},
   "outputs": [],
   "source": []
  },
  {
   "cell_type": "code",
   "execution_count": null,
   "id": "e86e0dfe-e3dc-4753-bf8e-4b6f74a74464",
   "metadata": {},
   "outputs": [],
   "source": []
  },
  {
   "cell_type": "code",
   "execution_count": null,
   "id": "81ee6cc3-f0fd-4b88-a6f0-10d2fac05b16",
   "metadata": {},
   "outputs": [],
   "source": []
  },
  {
   "cell_type": "code",
   "execution_count": null,
   "id": "00eecf46-9c09-420d-86ab-7704df39b2cb",
   "metadata": {},
   "outputs": [],
   "source": []
  }
 ],
 "metadata": {
  "kernelspec": {
   "display_name": "Python 3 (ipykernel)",
   "language": "python",
   "name": "python3"
  },
  "language_info": {
   "codemirror_mode": {
    "name": "ipython",
    "version": 3
   },
   "file_extension": ".py",
   "mimetype": "text/x-python",
   "name": "python",
   "nbconvert_exporter": "python",
   "pygments_lexer": "ipython3",
   "version": "3.12.6"
  }
 },
 "nbformat": 4,
 "nbformat_minor": 5
}
